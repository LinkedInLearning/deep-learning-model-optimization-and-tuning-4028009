{
 "cells": [
  {
   "cell_type": "code",
   "execution_count": 6,
   "id": "cac83a64",
   "metadata": {},
   "outputs": [],
   "source": [
    "def import_function():\n",
    "    print(\"This is a test for import\")\n",
    "    return \"hello 2\""
   ]
  },
  {
   "cell_type": "code",
   "execution_count": 7,
   "id": "c6273435",
   "metadata": {},
   "outputs": [
    {
     "name": "stdout",
     "output_type": "stream",
     "text": [
      "This is a test for import\n",
      "hello 2\n"
     ]
    }
   ],
   "source": [
    "print(import_function())"
   ]
  },
  {
   "cell_type": "code",
   "execution_count": null,
   "id": "ec411957",
   "metadata": {},
   "outputs": [],
   "source": []
  }
 ],
 "metadata": {
  "kernelspec": {
   "display_name": "Python 3 (ipykernel)",
   "language": "python",
   "name": "python3"
  },
  "language_info": {
   "codemirror_mode": {
    "name": "ipython",
    "version": 3
   },
   "file_extension": ".py",
   "mimetype": "text/x-python",
   "name": "python",
   "nbconvert_exporter": "python",
   "pygments_lexer": "ipython3",
   "version": "3.7.10"
  }
 },
 "nbformat": 4,
 "nbformat_minor": 5
}
